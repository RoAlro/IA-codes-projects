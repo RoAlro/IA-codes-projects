{
  "cells": [
    {
      "cell_type": "markdown",
      "metadata": {
        "id": "view-in-github",
        "colab_type": "text"
      },
      "source": [
        "<a href=\"https://colab.research.google.com/github/RoAlro/IA-codes-projects/blob/main/Codigo_para_la_camara_y_GUI_del_Clasificador_Basura_Reciclable.ipynb\" target=\"_parent\"><img src=\"https://colab.research.google.com/assets/colab-badge.svg\" alt=\"Open In Colab\"/></a>"
      ]
    },
    {
      "cell_type": "markdown",
      "metadata": {
        "id": "LducRhn6o5W4"
      },
      "source": [
        "### **ALGORITMO DE CLASIFICACIÓN DE BASURA RECICLABLE**"
      ]
    },
    {
      "cell_type": "code",
      "execution_count": null,
      "metadata": {
        "id": "SgDPkPUzo5W6"
      },
      "outputs": [],
      "source": [
        "import numpy as np\n",
        "from tkinter import *\n",
        "import cv2\n",
        "import serial\n",
        "import imutils as im\n",
        "from PIL import Image\n",
        "from PIL import ImageTk\n",
        "import torch\n",
        "import torch.nn as nn\n",
        "import torchvision.transforms as transforms\n",
        "from PIL import Image\n",
        "import timm\n",
        "import time"
      ]
    },
    {
      "cell_type": "code",
      "execution_count": null,
      "metadata": {
        "id": "g4kDNA8jo5W8"
      },
      "outputs": [],
      "source": [
        "class CNN_RESNET34(nn.Module):\n",
        "    def __init__(self, num_classes = 4, pretrained = True):\n",
        "        super().__init__()\n",
        "        \n",
        "        self.num_classes = num_classes\n",
        "\n",
        "        # Para MOBILENET\n",
        "        self.resnet34 = timm.create_model(\"resnet34d\", pretrained = pretrained)\n",
        "        if pretrained:\n",
        "          # freeze  weights\n",
        "            for param in self.resnet34.parameters():\n",
        "              param.requires_grad = False \n",
        "\n",
        "        self.numfeat = self.resnet34.get_classifier().in_features\n",
        "        \n",
        "        block = nn.Sequential(\n",
        "            nn.Linear(self.numfeat, 1024), \n",
        "            nn.Dropout(0.3),\n",
        "            nn.Linear(1024, self.num_classes))                 \n",
        "\n",
        "        self.resnet34.fc = block       \n",
        "\n",
        "    def forward(self, x):\n",
        "        out = self.resnet34.forward(x)\n",
        "        return out"
      ]
    },
    {
      "cell_type": "code",
      "execution_count": null,
      "metadata": {
        "id": "2wzC1kOvo5W8"
      },
      "outputs": [],
      "source": [
        "def predecir_clase(imagen):\n",
        "    # Crear una instancia del modelo\n",
        "    model = CNN_RESNET34() \n",
        "\n",
        "    dir_model = \"C:/Users/UsuarioE/Desktop/PROYECTO IA/Modelo/NetModel3.pth\"\n",
        "\n",
        "    # Cargar los pesos entrenados entrenado\n",
        "    state_dict = torch.load(dir_model, map_location=torch.device('cpu'))\n",
        "    model.load_state_dict(state_dict)\n",
        "\n",
        "    # Configura el modelo en modo de evaluación\n",
        "    model.eval()\n",
        "\n",
        "    # Aplica las transformaciones necesarias\n",
        "    transform = transforms.Compose([\n",
        "        transforms.ToPILImage(),\n",
        "        transforms.Resize(224),\n",
        "        transforms.CenterCrop(224),\n",
        "        transforms.ToTensor(),\n",
        "        transforms.Normalize(mean=[0.485, 0.456, 0.406], std=[0.229, 0.224, 0.225])\n",
        "    ])\n",
        "\n",
        "    # Preparar la imagen de entrada\n",
        "    img_tensor = transform(imagen)\n",
        "    img_tensor = img_tensor.unsqueeze(0) # add batch dimension\n",
        "\n",
        "    # Hacer la predicción\n",
        "    with torch.no_grad():\n",
        "        output = model(img_tensor)  # Pasar la imagen a traves del modelo\n",
        "        _, pred = torch.max(output, 1)  # Obtiene la clase con la probabilidad más alta\n",
        "        score = output.numpy()[0,pred.item()]\n",
        "\n",
        "    return  pred.item(), score"
      ]
    },
    {
      "cell_type": "code",
      "execution_count": null,
      "metadata": {
        "id": "EZaX2haHo5W9"
      },
      "outputs": [],
      "source": [
        "# Inicializacion de variables\n",
        "captura = None\n",
        "servos_giro_radial = 0\n",
        "servos_inclinación = 0\n",
        "angulo_giro_radial = 135\n",
        "angulo_inclinación = 0\n",
        "generar_clasificación = False\n",
        "posicion_inicial = False"
      ]
    },
    {
      "cell_type": "code",
      "execution_count": null,
      "metadata": {
        "id": "ol8zlx5io5W9"
      },
      "outputs": [],
      "source": [
        "# Establece la conexión serie en el puerto COM3 a 9600 baudios\n",
        "arduino = serial.Serial('COM3', 9600, timeout = 1)"
      ]
    },
    {
      "cell_type": "code",
      "execution_count": null,
      "metadata": {
        "id": "MXUzp5GKo5W9"
      },
      "outputs": [],
      "source": [
        "def girar_Servos(servos_giro_radial_1, servos_inclinación_1, angulo_giro_radial_1, angulo_inclinación_1):\n",
        "    global arduino\n",
        "    datos = str(servos_giro_radial_1)+\",\"+str(servos_inclinación_1)+\",\"+str(angulo_giro_radial_1)+\",\"+str(angulo_inclinación_1)\n",
        "    arduino.write(datos.encode())"
      ]
    },
    {
      "cell_type": "code",
      "execution_count": null,
      "metadata": {
        "id": "K7NcnPARo5W-"
      },
      "outputs": [],
      "source": [
        "def boton_posicion_inicial():\n",
        "    global angulo_giro_radial, angulo_inclinación, posicion_inicial\n",
        "\n",
        "    posicion_inicial = True\n",
        "    angulo_giro_radial = 135\n",
        "    angulo_inclinación = 0\n",
        "    girar_Servos(1, 1, angulo_giro_radial, angulo_inclinación)\n",
        "    time.sleep(2)"
      ]
    },
    {
      "cell_type": "code",
      "execution_count": null,
      "metadata": {
        "id": "edSU-hdHo5W-"
      },
      "outputs": [],
      "source": [
        "def movimiento_clasificador():\n",
        "    global angulo_giro_radial, angulo_inclinación\n",
        "\n",
        "    girar_Servos(1, 0, angulo_giro_radial, 0)\n",
        "    print(angulo_giro_radial)\n",
        "    time.sleep(2)\n",
        "\n",
        "    girar_Servos(0, 1, angulo_giro_radial, 30)\n",
        "    print('ang incl 30')\n",
        "    time.sleep(2.5)\n",
        "\n",
        "    girar_Servos(0, 1, angulo_giro_radial, 0)\n",
        "    print('ang incl 0')\n",
        "    time.sleep(1.5)\n",
        "\n",
        "    girar_Servos(1, 0, 135, 0)\n",
        "    print(135)\n",
        "    time.sleep(1.5)"
      ]
    },
    {
      "cell_type": "code",
      "execution_count": null,
      "metadata": {
        "id": "ol3eNcPco5W-"
      },
      "outputs": [],
      "source": [
        "def clasificar(imagen):\n",
        "    global lblEtiquetaClase, angulo_giro_radial, angulo_inclinación\n",
        "    # Predicir la clase (numero) de la imagen de video, ademas de obtener su score o puntaje\n",
        "    num_clase, score = predecir_clase(imagen)\n",
        "    \n",
        "    # Verificar si es uno de las 4 clase de basura reciclable \n",
        "    if score >= 3:\n",
        "        if num_clase == 0:\n",
        "            lblEtiquetaClase.configure(text = 'Botella de PET')\n",
        "            angulo_giro_radial = 260\n",
        "            movimiento_clasificador()\n",
        "\n",
        "        elif num_clase == 1:\n",
        "            lblEtiquetaClase.configure(text = 'Botella de Vidrio')\n",
        "            angulo_giro_radial = 198\n",
        "            movimiento_clasificador()\n",
        "\n",
        "        elif num_clase == 2:\n",
        "            lblEtiquetaClase.configure(text = 'Vaso o Frasco de Vidrio')\n",
        "            angulo_giro_radial = 73\n",
        "            movimiento_clasificador()\n",
        "\n",
        "        #elif num_clase == 3:\n",
        "            #lblEtiquetaClase.configure(text = 'Vaso o Frasco de Vidrio')\n",
        "            #angulo_giro_radial = 10\n",
        "            #movimiento_clasificador()\n",
        "\n",
        "    else:\n",
        "        lblEtiquetaClase.configure(text = 'Ninguna de las 3')\n",
        "        angulo_giro_radial = 135\n",
        "        movimiento_clasificador()"
      ]
    },
    {
      "cell_type": "code",
      "execution_count": null,
      "metadata": {
        "id": "9QzFrDpDo5W-"
      },
      "outputs": [],
      "source": [
        "def boton_clasificador():\n",
        "    global generar_clasificación\n",
        "    generar_clasificación = True\n",
        "    print('Clasificando')"
      ]
    },
    {
      "cell_type": "code",
      "execution_count": null,
      "metadata": {
        "id": "5v0K_X-Xo5W-"
      },
      "outputs": [],
      "source": [
        "def video():\n",
        "    global lblVideo, captura, generar_clasificación, posicion_inicial\n",
        "\n",
        "    if captura is not None:\n",
        "        # Leer imagen de la cámara\n",
        "        exito, imagen = captura.read(0)\n",
        "\n",
        "        if not exito:\n",
        "            print('No se ha podido tomar la captura')\n",
        "            lblVideo.image = \"\"\n",
        "        else:\n",
        "            imagen = cv2.cvtColor(imagen, cv2.COLOR_BGR2RGB) \n",
        "\n",
        "            # Girar imagen desde el eje vertical\n",
        "            imagen = cv2.flip(imagen, 1)\n",
        "            \n",
        "            if generar_clasificación == True and posicion_inicial == True:\n",
        "                # Clasificar imagen de basura \n",
        "                clasificar(imagen)\n",
        "                generar_clasificación = False\n",
        "                print('Clasificado')\n",
        "\n",
        "            # Convertimos la imagen\n",
        "            img1 = Image.fromarray(imagen)\n",
        "            img2 = ImageTk.PhotoImage(image=img1)\n",
        "\n",
        "            # Mostramos la imagen procesada en la GUI\n",
        "            lblVideo.configure(image=img2)\n",
        "            lblVideo.image = img2\n",
        "            lblVideo.after(10, video)"
      ]
    },
    {
      "cell_type": "code",
      "execution_count": null,
      "metadata": {
        "id": "fG0gjLkbo5W_",
        "outputId": "5e8b5808-0aec-441b-97d4-4d7e8626c04e"
      },
      "outputs": [
        {
          "name": "stdout",
          "output_type": "stream",
          "text": [
            "135\n",
            "ang incl 30\n",
            "ang incl 0\n",
            "135\n",
            "Clasificado\n",
            "Clasificando\n",
            "260\n",
            "ang incl 30\n",
            "ang incl 0\n",
            "135\n",
            "Clasificado\n",
            "Clasificando\n",
            "73\n",
            "ang incl 30\n",
            "ang incl 0\n",
            "135\n",
            "Clasificado\n",
            "Clasificando\n",
            "198\n",
            "ang incl 30\n",
            "ang incl 0\n",
            "135\n",
            "Clasificado\n",
            "Clasificando\n",
            "135\n",
            "ang incl 30\n",
            "ang incl 0\n",
            "135\n",
            "Clasificado\n",
            "Clasificando\n",
            "135\n",
            "ang incl 30\n",
            "ang incl 0\n",
            "135\n",
            "Clasificado\n",
            "Clasificando\n",
            "260\n",
            "ang incl 30\n",
            "ang incl 0\n",
            "135\n",
            "Clasificado\n",
            "Clasificando\n",
            "135\n",
            "ang incl 30\n",
            "ang incl 0\n",
            "135\n",
            "Clasificado\n",
            "Clasificando\n",
            "198\n",
            "ang incl 30\n",
            "ang incl 0\n",
            "135\n",
            "Clasificado\n",
            "Clasificando\n",
            "260\n",
            "ang incl 30\n",
            "ang incl 0\n",
            "135\n",
            "Clasificado\n",
            "Clasificando\n",
            "198\n",
            "ang incl 30\n",
            "ang incl 0\n",
            "135\n",
            "Clasificado\n",
            "Clasificando\n",
            "135\n",
            "ang incl 30\n",
            "ang incl 0\n",
            "135\n",
            "Clasificado\n",
            "Clasificando\n",
            "73\n",
            "ang incl 30\n",
            "ang incl 0\n",
            "135\n",
            "Clasificado\n",
            "Clasificando\n",
            "135\n",
            "ang incl 30\n",
            "ang incl 0\n",
            "135\n",
            "Clasificado\n",
            "Clasificando\n",
            "73\n",
            "ang incl 30\n",
            "ang incl 0\n",
            "135\n",
            "Clasificado\n",
            "Clasificando\n",
            "198\n",
            "ang incl 30\n",
            "ang incl 0\n",
            "135\n",
            "Clasificado\n",
            "Clasificando\n",
            "135\n",
            "ang incl 30\n",
            "ang incl 0\n",
            "135\n",
            "Clasificado\n",
            "Clasificando\n",
            "260\n",
            "ang incl 30\n",
            "ang incl 0\n",
            "135\n",
            "Clasificado\n",
            "Clasificando\n",
            "135\n",
            "ang incl 30\n",
            "ang incl 0\n",
            "135\n",
            "Clasificado\n"
          ]
        }
      ],
      "source": [
        "# Crear la ventana de la GUI\n",
        "root = Tk()\n",
        "root.title('CLASIFICADOR DE BASURA RECICLABLE')\n",
        "root.geometry('910x580')\n",
        "root.resizable(0, 0)\n",
        "\n",
        "# Creando Widgets\n",
        "lblTitulo = Label(root, text = 'CLASIFICADOR DE BASURA RECICLABLE', fg = 'red', font = ('Cambria',24))\n",
        "lblTitulo.place(x = 170, y = 10)\n",
        "\n",
        "btnVideo = Button(root, text=\"ACTIVAR CAMARA\", font = ('Cambria',16), command=video)\n",
        "btnVideo.place(x = 20, y = 90, width=200, height=35)\n",
        "\n",
        "btnPosicionIncial = Button(root, text=\"POSICIÓN INICIAL\", font = ('Cambria',16), command=boton_posicion_inicial)\n",
        "btnPosicionIncial.place(x = 20, y = 140, width=200, height=35)\n",
        "\n",
        "btnClasificador = Button(root, text=\"CLASIFICAR\", font = ('Cambria',16), command=boton_clasificador)\n",
        "btnClasificador.place(x = 20, y = 190, width=200, height=35)\n",
        "\n",
        "lblVideo = Label(root)\n",
        "lblVideo.place(x = 240, y = 70)\n",
        "\n",
        "lblClase = Label(root, text = 'CLASE:', fg = 'green', font = ('Cambria',16))\n",
        "lblClase.place(x = 20, y = 260)\n",
        "\n",
        "lblEtiquetaClase = Label(root, text = '', fg = 'blue', font = ('Cambria',16))\n",
        "lblEtiquetaClase.place(x = 20, y = 300)\n",
        "\n",
        "# Capturar video\n",
        "captura = cv2.VideoCapture(1)\n",
        "\n",
        "# Bucle infinito siempre cuando no se cierre la ventana de la GUI\n",
        "root.mainloop()\n",
        "\n",
        "captura.release()\n",
        "arduino.close()"
      ]
    }
  ],
  "metadata": {
    "kernelspec": {
      "display_name": "base",
      "language": "python",
      "name": "python3"
    },
    "language_info": {
      "codemirror_mode": {
        "name": "ipython",
        "version": 3
      },
      "file_extension": ".py",
      "mimetype": "text/x-python",
      "name": "python",
      "nbconvert_exporter": "python",
      "pygments_lexer": "ipython3",
      "version": "3.8.8"
    },
    "orig_nbformat": 4,
    "vscode": {
      "interpreter": {
        "hash": "4def7a4294ae71cae6f6fcbde98289ae8f749c6f85c28dda845e085dc7817a07"
      }
    },
    "colab": {
      "provenance": [],
      "include_colab_link": true
    }
  },
  "nbformat": 4,
  "nbformat_minor": 0
}